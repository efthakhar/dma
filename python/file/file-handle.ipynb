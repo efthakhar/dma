{
 "cells": [
  {
   "cell_type": "code",
   "execution_count": 22,
   "id": "b3685037",
   "metadata": {},
   "outputs": [
    {
     "name": "stdout",
     "output_type": "stream",
     "text": [
      "['I am dihab \\n', 'I am learning ML from Phitron']\n",
      "<class 'list'>\n"
     ]
    }
   ],
   "source": [
    "file = open('sample.txt')\n",
    "# contents = file.read()\n",
    "# print(contents)\n",
    "# print(type(type(contents)))\n",
    "\n",
    "contents = file.readlines()\n",
    "print(contents)\n",
    "print(type(contents))"
   ]
  },
  {
   "cell_type": "code",
   "execution_count": 23,
   "id": "c0d18654",
   "metadata": {},
   "outputs": [
    {
     "name": "stdout",
     "output_type": "stream",
     "text": [
      "I am dihab \n",
      "I am learning ML from Phitron"
     ]
    }
   ],
   "source": [
    "with open('sample.txt') as file:\n",
    "    # content = file.readlines()\n",
    "    # print(content)\n",
    "    for line in file:\n",
    "        print(line, end='')"
   ]
  },
  {
   "cell_type": "code",
   "execution_count": 24,
   "id": "c24f56c2",
   "metadata": {},
   "outputs": [],
   "source": [
    "with open('sample.txt', 'w') as file:\n",
    "    file.write(\"I am dihab \\n\")\n",
    "    file.write(\"I am learning ML from Phitron\")"
   ]
  }
 ],
 "metadata": {
  "kernelspec": {
   "display_name": "venv",
   "language": "python",
   "name": "python3"
  },
  "language_info": {
   "codemirror_mode": {
    "name": "ipython",
    "version": 3
   },
   "file_extension": ".py",
   "mimetype": "text/x-python",
   "name": "python",
   "nbconvert_exporter": "python",
   "pygments_lexer": "ipython3",
   "version": "3.13.5"
  }
 },
 "nbformat": 4,
 "nbformat_minor": 5
}
