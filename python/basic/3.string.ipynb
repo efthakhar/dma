{
 "cells": [
  {
   "cell_type": "markdown",
   "id": "50263e32",
   "metadata": {},
   "source": [
    "### String in Python\n",
    "- string is immutable"
   ]
  },
  {
   "cell_type": "code",
   "execution_count": 12,
   "id": "cf2f8110",
   "metadata": {},
   "outputs": [
    {
     "name": "stdout",
     "output_type": "stream",
     "text": [
      " are you\n"
     ]
    }
   ],
   "source": [
    "my_string = \"Hello Dihab. How are you\"\n",
    "child_string_one = my_string[0: 10: 1]\n",
    "child_string_two = my_string[ -1: -15: -1]\n",
    "child_string_three = my_string[ -8: : 1]\n",
    "print(child_string_three)"
   ]
  },
  {
   "cell_type": "code",
   "execution_count": 36,
   "id": "ca7d24af",
   "metadata": {},
   "outputs": [],
   "source": [
    "message =  \"I have enrolled in Phitron Course Last Week. Too much content in this course\"\n",
    "\n",
    "# # check the length of the string\n",
    "# print(f\"The length of the message is: {len(message)} \\n\")\n",
    "\n",
    "# # modifing string\n",
    "# print(f\"The capitalize of the message is: {(message).capitalize()} \\n\")\n",
    "# print(f\"The uppercase of the message is: {(message).upper()} \\n\")\n",
    "# print(f\"The lowerchase of the message is: {(message).lower()} \\n\")\n",
    "\n",
    "# # check if a string contains a substring\n",
    "# print(f\"The messsage contain the word Phitron: {'Phitron' in message}\")\n",
    "# print(f\"The messsage contain the word Phitron: {'phitron' in message} \\n\")\n",
    "\n",
    "# # check the position of a substring in a string\n",
    "# print(f\"Phitron is at index: { (message).find(\"Phitron\") }\")\n",
    "# print(f\"Phitron is at index in reverse: { (message).rfind(\"Phitron\") }\")\n",
    "# # check the repeatation of a substring\n",
    "# print(f\"substring 'in' repeatation time: { (message).count(\"in\") }\")\n",
    "\n",
    "# # Replace a substring \n",
    "# print(f\"Replaced String is: {message.replace(\"Phitron\", \"Programming Hero\")}\")\n"
   ]
  },
  {
   "cell_type": "code",
   "execution_count": 41,
   "id": "b52262b3",
   "metadata": {},
   "outputs": [
    {
     "name": "stdout",
     "output_type": "stream",
     "text": [
      "['Hello', 'Dihab,', 'How', 'Are', 'You']\n",
      "['Hello Dihab', ' How Are You']\n",
      "Hello - Dihab, - How - Are - You\n"
     ]
    }
   ],
   "source": [
    "# splitting string into list\n",
    "string1 = \"Hello Dihab, How Are You\"\n",
    "print(string1.split())\n",
    "print(string1.split(','))\n",
    "print(\" - \".join(string1.split()))"
   ]
  },
  {
   "cell_type": "code",
   "execution_count": 46,
   "id": "7dc90451",
   "metadata": {},
   "outputs": [
    {
     "name": "stdout",
     "output_type": "stream",
     "text": [
      "0.02\n"
     ]
    }
   ],
   "source": [
    "print(f\"{.0154325:.1}\")"
   ]
  }
 ],
 "metadata": {
  "kernelspec": {
   "display_name": "venv",
   "language": "python",
   "name": "python3"
  },
  "language_info": {
   "codemirror_mode": {
    "name": "ipython",
    "version": 3
   },
   "file_extension": ".py",
   "mimetype": "text/x-python",
   "name": "python",
   "nbconvert_exporter": "python",
   "pygments_lexer": "ipython3",
   "version": "3.13.5"
  }
 },
 "nbformat": 4,
 "nbformat_minor": 5
}
