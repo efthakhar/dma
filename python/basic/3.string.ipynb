{
 "cells": [
  {
   "cell_type": "markdown",
   "id": "50263e32",
   "metadata": {},
   "source": [
    "### String in Python\n",
    "- string is immutable"
   ]
  },
  {
   "cell_type": "code",
   "execution_count": 21,
   "id": "cf2f8110",
   "metadata": {},
   "outputs": [
    {
     "name": "stdout",
     "output_type": "stream",
     "text": [
      " are you\n"
     ]
    }
   ],
   "source": [
    "my_string = \"Hello Dihab. How are you\"\n",
    "child_string_one = my_string[0: 10: 1]\n",
    "child_string_two = my_string[ -1: -15: -1]\n",
    "child_string_three = my_string[ -8: : 1]\n",
    "print(child_string_three)"
   ]
  },
  {
   "cell_type": "code",
   "execution_count": 22,
   "id": "ca7d24af",
   "metadata": {},
   "outputs": [],
   "source": [
    "message =  \"I have enrolled in Phitron Course Last Week. Too much content in this course\"\n",
    "\n",
    "# # check the length of the string\n",
    "# print(f\"The length of the message is: {len(message)} \\n\")\n",
    "\n",
    "# # modifing string\n",
    "# print(f\"The capitalize of the message is: {(message).capitalize()} \\n\")\n",
    "# print(f\"The uppercase of the message is: {(message).upper()} \\n\")\n",
    "# print(f\"The lowerchase of the message is: {(message).lower()} \\n\")\n",
    "\n",
    "# # check if a string contains a substring\n",
    "# print(f\"The messsage contain the word Phitron: {'Phitron' in message}\")\n",
    "# print(f\"The messsage contain the word Phitron: {'phitron' in message} \\n\")\n",
    "\n",
    "# # check the position of a substring in a string\n",
    "# print(f\"Phitron is at index: { (message).find(\"Phitron\") }\")\n",
    "# print(f\"Phitron is at index in reverse: { (message).rfind(\"Phitron\") }\")\n",
    "# # check the repeatation of a substring\n",
    "# print(f\"substring 'in' repeatation time: { (message).count(\"in\") }\")\n",
    "\n",
    "# # Replace a substring \n",
    "# print(f\"Replaced String is: {message.replace(\"Phitron\", \"Programming Hero\")}\")\n"
   ]
  },
  {
   "cell_type": "code",
   "execution_count": 23,
   "id": "b52262b3",
   "metadata": {},
   "outputs": [
    {
     "name": "stdout",
     "output_type": "stream",
     "text": [
      "['Hello', 'Dihab,', 'How', 'Are', 'You']\n",
      "['Hello Dihab', ' How Are You']\n",
      "Hello - Dihab, - How - Are - You\n"
     ]
    }
   ],
   "source": [
    "# splitting string into list\n",
    "string1 = \"Hello Dihab, How Are You\"\n",
    "print(string1.split())\n",
    "print(string1.split(','))\n",
    "print(\" - \".join(string1.split()))"
   ]
  },
  {
   "cell_type": "code",
   "execution_count": 24,
   "id": "7dc90451",
   "metadata": {},
   "outputs": [
    {
     "name": "stdout",
     "output_type": "stream",
     "text": [
      "[4.5, 45, 12, 88, 15, 6, 96, 5, 3, 1]\n"
     ]
    }
   ],
   "source": [
    "numbers = [1,3,5,96,6, 15, 88, 12, 45, 4.5]\n",
    "# sorted = numbers.sort()\n",
    "# sorted = numbers.sort(reverse=True)\n",
    "numbers.reverse()\n",
    "print(numbers)\n"
   ]
  },
  {
   "cell_type": "code",
   "execution_count": null,
   "id": "3915e151",
   "metadata": {},
   "outputs": [
    {
     "name": "stdout",
     "output_type": "stream",
     "text": [
      "[2, 4, 12, 8, 10]\n"
     ]
    }
   ],
   "source": [
    "# word = \"Pythonista\"\n",
    "# print(word[-4])\n",
    "\n",
    "# s = \"HelloWorld\"\n",
    "# print(s[2:8:2])\n",
    "\n",
    "# text  = \"banana bandana\"\n",
    "# print(text.count('ana'))\n",
    "\n",
    "nums = [2, 4, 6, 8, 10]\n",
    "nums[2] = nums[0] * nums[2]\n",
    "\n",
    "print(nums.remo)"
   ]
  },
  {
   "cell_type": "code",
   "execution_count": 31,
   "id": "9fbafaf3",
   "metadata": {},
   "outputs": [
    {
     "name": "stdout",
     "output_type": "stream",
     "text": [
      "OFF\n"
     ]
    }
   ],
   "source": [
    "input = input()\n",
    "input = input.split()\n",
    "brightness  = input[0]\n",
    "threshold  = input[1]\n",
    "\n",
    "if brightness >= threshold:\n",
    "    print(\"ON\")\n",
    "else:\n",
    "    print(\"OFF\")"
   ]
  }
 ],
 "metadata": {
  "kernelspec": {
   "display_name": "venv",
   "language": "python",
   "name": "python3"
  },
  "language_info": {
   "codemirror_mode": {
    "name": "ipython",
    "version": 3
   },
   "file_extension": ".py",
   "mimetype": "text/x-python",
   "name": "python",
   "nbconvert_exporter": "python",
   "pygments_lexer": "ipython3",
   "version": "3.13.5"
  }
 },
 "nbformat": 4,
 "nbformat_minor": 5
}
