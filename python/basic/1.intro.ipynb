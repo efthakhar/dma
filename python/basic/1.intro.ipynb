{
 "cells": [
  {
   "cell_type": "markdown",
   "id": "09122748",
   "metadata": {},
   "source": [
    "### Varibles Naming Conventions\n",
    "- varible names can only be consisted of english letters, numbers and special character only under score\n",
    "- can not be began with number"
   ]
  },
  {
   "cell_type": "code",
   "execution_count": 13,
   "id": "ca155121",
   "metadata": {},
   "outputs": [
    {
     "name": "stdout",
     "output_type": "stream",
     "text": [
      "Phone Number: 938408504\n",
      "Name of the Person: efthakhar\n"
     ]
    }
   ],
   "source": [
    "phone_number = 938408504\n",
    "person_name = \"efthakhar\"\n",
    "print(f\"Phone Number: {phone_number}\")\n",
    "print(f\"Name of the Person: {person_name}\")"
   ]
  },
  {
   "cell_type": "markdown",
   "id": "26526d3c",
   "metadata": {},
   "source": [
    "### Auto-decided data types\n",
    "- In Python, you don’t need to explicitly declare the data type of a variable\n",
    "- the interpreter automatically decides it based on the value you assign."
   ]
  },
  {
   "cell_type": "code",
   "execution_count": null,
   "id": "98e4a461",
   "metadata": {},
   "outputs": [
    {
     "name": "stdout",
     "output_type": "stream",
     "text": [
      "<class 'int'> <class 'float'> <class 'str'>\n"
     ]
    },
    {
     "ename": "",
     "evalue": "",
     "output_type": "error",
     "traceback": [
      "\u001b[1;31mnotebook controller is DISPOSED. \n",
      "\u001b[1;31mView Jupyter <a href='command:jupyter.viewOutput'>log</a> for further details."
     ]
    }
   ],
   "source": [
    "integerNumber = 34\n",
    "floatNumber = 24.5\n",
    "stringData = \"Hello, How are you?\"\n",
    "print(type(integerNumber), type(floatNumber), type(stringData))"
   ]
  },
  {
   "cell_type": "markdown",
   "id": "aa28bc65",
   "metadata": {},
   "source": [
    "### Taking variable value as input from user"
   ]
  },
  {
   "cell_type": "code",
   "execution_count": null,
   "id": "3cbeb8b6",
   "metadata": {},
   "outputs": [],
   "source": [
    "name_of_user = input(\"Enter Your Name\")\n",
    "print(f\"Hi, {name_of_user}\", type(name_of_user))\n",
    "age_of_user = float(input(\"Enter your age: \"))\n",
    "print(f\"You are {age_of_user} years old\", type(age_of_user))"
   ]
  }
 ],
 "metadata": {
  "kernelspec": {
   "display_name": "venv",
   "language": "python",
   "name": "python3"
  },
  "language_info": {
   "codemirror_mode": {
    "name": "ipython",
    "version": 3
   },
   "file_extension": ".py",
   "mimetype": "text/x-python",
   "name": "python",
   "nbconvert_exporter": "python",
   "pygments_lexer": "ipython3",
   "version": "3.13.5"
  }
 },
 "nbformat": 4,
 "nbformat_minor": 5
}
