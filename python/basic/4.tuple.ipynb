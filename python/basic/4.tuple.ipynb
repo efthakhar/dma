{
 "cells": [
  {
   "cell_type": "markdown",
   "id": "0ab3c9e0",
   "metadata": {},
   "source": [
    "### Tuple Data Structure\n",
    "-  collection of data\n",
    "- immutable"
   ]
  },
  {
   "cell_type": "markdown",
   "id": "1af3ed4c",
   "metadata": {},
   "source": []
  }
 ],
 "metadata": {
  "language_info": {
   "name": "python"
  }
 },
 "nbformat": 4,
 "nbformat_minor": 5
}
