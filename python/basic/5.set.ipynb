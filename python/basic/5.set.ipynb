{
 "cells": [
  {
   "cell_type": "markdown",
   "id": "f682e11b",
   "metadata": {},
   "source": [
    "### Set\n",
    "- mutable\n",
    "- unique\n",
    "- unordered"
   ]
  },
  {
   "cell_type": "code",
   "execution_count": 13,
   "id": "2e5afe92",
   "metadata": {},
   "outputs": [
    {
     "name": "stdout",
     "output_type": "stream",
     "text": [
      "<class 'set'> {1, 2, 3, 4, 5, 6, 7.5, 8, 'hello', 10}\n",
      "<class 'set'> {0, 1, 2, 3, 4, 5, 6, 7.5, 8, 'hello', 10}\n",
      "<class 'set'> {1, 2, 3, 4, 5, 6, 7.5, 8, 'hello', 10}\n",
      "True\n",
      "{1, 2, 3, 4, 5, 6, 7.5, 8, 'hello'}\n"
     ]
    }
   ],
   "source": [
    "items_set = {1,2,3,4,5,6,7.5,8,10, \"hello\"}\n",
    "print(type(items_set),items_set)\n",
    "\n",
    "items_set.add(0)\n",
    "print(type(items_set),items_set)\n",
    "\n",
    "items_set.pop()\n",
    "print(type(items_set),items_set)\n",
    "\n",
    "print(3 in items_set)\n",
    "\n",
    "\n",
    "items_set.remove(10)\n",
    "print(items_set)"
   ]
  },
  {
   "cell_type": "code",
   "execution_count": null,
   "id": "062587a7",
   "metadata": {},
   "outputs": [
    {
     "name": "stdout",
     "output_type": "stream",
     "text": [
      "{'D', 'C'}\n",
      "{'C'}\n",
      "False\n",
      "True\n"
     ]
    }
   ],
   "source": [
    "set_a = {\"A\", \"B\", \"C\"}\n",
    "set_b = {\"C\", \"D\"}\n",
    "\n",
    "print(set_a.union(set_b))\n",
    "print(set_a.intersection(set_b))\n",
    "print(set_a.isdisjoint(set_b))\n",
    "print(set_a.issubset(set_b))"
   ]
  }
 ],
 "metadata": {
  "kernelspec": {
   "display_name": "venv",
   "language": "python",
   "name": "python3"
  },
  "language_info": {
   "codemirror_mode": {
    "name": "ipython",
    "version": 3
   },
   "file_extension": ".py",
   "mimetype": "text/x-python",
   "name": "python",
   "nbconvert_exporter": "python",
   "pygments_lexer": "ipython3",
   "version": "3.13.5"
  }
 },
 "nbformat": 4,
 "nbformat_minor": 5
}
