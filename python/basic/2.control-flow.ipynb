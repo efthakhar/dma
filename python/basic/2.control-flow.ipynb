{
 "cells": [
  {
   "cell_type": "markdown",
   "id": "48de013c",
   "metadata": {},
   "source": [
    "### Conditions"
   ]
  },
  {
   "cell_type": "code",
   "execution_count": 3,
   "id": "17df79e3",
   "metadata": {},
   "outputs": [
    {
     "name": "stdout",
     "output_type": "stream",
     "text": [
      "Enjoy the weekend.\n"
     ]
    }
   ],
   "source": [
    "rainy = True\n",
    "weekend = True\n",
    "if weekend == True:\n",
    "    print(\"Enjoy the weekend.\")\n",
    "elif rainy == True :\n",
    "    print(\"Take Umbrella\")\n",
    "else:\n",
    "    print(\"Enjoy the sunny day\")"
   ]
  },
  {
   "cell_type": "markdown",
   "id": "76225d98",
   "metadata": {},
   "source": [
    "### Loop"
   ]
  },
  {
   "cell_type": "code",
   "execution_count": null,
   "id": "7980e067",
   "metadata": {},
   "outputs": [
    {
     "name": "stdout",
     "output_type": "stream",
     "text": [
      "Iteration No is 1\n",
      "Iteration No is 2\n"
     ]
    }
   ],
   "source": [
    "# num = 100\n",
    "# while num >= 10:\n",
    "#     print(f\"Current Number is {num}\")\n",
    "#     num-=30\n",
    "\n",
    "\n",
    "# for item in range(1,3):\n",
    "#     print(F\"Iteration No is {item}\")"
   ]
  },
  {
   "cell_type": "code",
   "execution_count": 15,
   "id": "927828e4",
   "metadata": {},
   "outputs": [
    {
     "name": "stdout",
     "output_type": "stream",
     "text": [
      "0 0\n",
      "1 0\n"
     ]
    }
   ],
   "source": [
    "\n",
    "for i in range(2):\n",
    "  for j in range(3):\n",
    "    if j==1:\n",
    "      break\n",
    "    print(i,j)\n",
    "  "
   ]
  }
 ],
 "metadata": {
  "kernelspec": {
   "display_name": "venv",
   "language": "python",
   "name": "python3"
  },
  "language_info": {
   "codemirror_mode": {
    "name": "ipython",
    "version": 3
   },
   "file_extension": ".py",
   "mimetype": "text/x-python",
   "name": "python",
   "nbconvert_exporter": "python",
   "pygments_lexer": "ipython3",
   "version": "3.13.5"
  }
 },
 "nbformat": 4,
 "nbformat_minor": 5
}
